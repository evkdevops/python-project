{
 "cells": [
  {
   "cell_type": "code",
   "execution_count": 1,
   "metadata": {},
   "outputs": [
    {
     "name": "stdout",
     "output_type": "stream",
     "text": [
      "Enter F degree:20\n"
     ]
    },
    {
     "ename": "NameError",
     "evalue": "name 'mpr' is not defined",
     "output_type": "error",
     "traceback": [
      "\u001b[1;31m---------------------------------------------------------------------------\u001b[0m",
      "\u001b[1;31mNameError\u001b[0m                                 Traceback (most recent call last)",
      "\u001b[1;32m<ipython-input-1-ae2924c46716>\u001b[0m in \u001b[0;36m<module>\u001b[1;34m()\u001b[0m\n\u001b[0;32m      2\u001b[0m \u001b[0mtmpr\u001b[0m\u001b[1;33m=\u001b[0m\u001b[0mraw_input\u001b[0m\u001b[1;33m(\u001b[0m\u001b[1;34m\"Enter F degree:\"\u001b[0m\u001b[1;33m)\u001b[0m\u001b[1;33m\u001b[0m\u001b[0m\n\u001b[0;32m      3\u001b[0m \u001b[1;31m#check if value is empyt\u001b[0m\u001b[1;33m\u001b[0m\u001b[1;33m\u001b[0m\u001b[0m\n\u001b[1;32m----> 4\u001b[1;33m \u001b[1;32mif\u001b[0m \u001b[0mmpr\u001b[0m\u001b[1;33m!=\u001b[0m\u001b[1;34m\"\"\u001b[0m\u001b[1;33m:\u001b[0m\u001b[1;33m\u001b[0m\u001b[0m\n\u001b[0m\u001b[0;32m      5\u001b[0m     \u001b[0mtemp_c\u001b[0m\u001b[1;33m=\u001b[0m\u001b[1;33m(\u001b[0m\u001b[0mint\u001b[0m\u001b[1;33m(\u001b[0m\u001b[0mtmpr\u001b[0m\u001b[1;33m)\u001b[0m\u001b[1;33m-\u001b[0m\u001b[1;36m32\u001b[0m\u001b[1;33m)\u001b[0m\u001b[1;33m*\u001b[0m\u001b[1;36m5\u001b[0m\u001b[1;33m/\u001b[0m\u001b[1;36m9\u001b[0m\u001b[1;33m\u001b[0m\u001b[0m\n\u001b[0;32m      6\u001b[0m     \u001b[1;32mprint\u001b[0m \u001b[0mtemp_c\u001b[0m\u001b[1;33m\u001b[0m\u001b[0m\n",
      "\u001b[1;31mNameError\u001b[0m: name 'mpr' is not defined"
     ]
    }
   ],
   "source": [
    "#take temp in F degree and convert to c\n",
    "tmpr=raw_input(\"Enter F degree:\")\n",
    "#check if value is empyt\n",
    "if mpr!=\"\":\n",
    "    temp_c=(int(tmpr)-32)*5/9\n",
    "    print temp_c"
   ]
  },
  {
   "cell_type": "code",
   "execution_count": 2,
   "metadata": {},
   "outputs": [
    {
     "name": "stdout",
     "output_type": "stream",
     "text": [
      "Enter F degree:20\n",
      "-7\n"
     ]
    }
   ],
   "source": [
    "#take temp in F degree and convert to c\n",
    "tmpr=raw_input(\"Enter F degree:\")\n",
    "#check if value is empyt\n",
    "if tmpr!=\"\":\n",
    "    temp_c=(int(tmpr)-32)*5/9\n",
    "    print temp_c"
   ]
  },
  {
   "cell_type": "code",
   "execution_count": 3,
   "metadata": {},
   "outputs": [
    {
     "name": "stdout",
     "output_type": "stream",
     "text": [
      "Enter number of avail bus's:30\n",
      "Enter number of seats per bus:20\n",
      "Enter number of passengers:450\n",
      "7\n"
     ]
    }
   ],
   "source": [
    "#code to find out how many buses are required based on demand\n",
    "bus_no=raw_input(\"Enter number of avail bus's:\")\n",
    "seats_no=raw_input(\"Enter number of seats per bus:\")\n",
    "pas_no=raw_input(\"Enter number of passengers:\")\n",
    "bus=int(bus_no)\n",
    "seats=int(seats_no)\n",
    "pupil=int(pas_no)\n",
    "\n",
    "if bus_no!=\"\" and seats_no!=\"\" and pas_no!=\"\":\n",
    "        nu_bus_req=((bus*seats)-pupil)/seats\n",
    "        print nu_bus_req  "
   ]
  },
  {
   "cell_type": "code",
   "execution_count": 4,
   "metadata": {},
   "outputs": [
    {
     "name": "stdout",
     "output_type": "stream",
     "text": [
      "Enter a value:2\n",
      "Enter b value:30\n",
      "Enter c value:1\n",
      "b is big\n"
     ]
    }
   ],
   "source": [
    "#find number which is big in 3 inputs\n",
    "a=raw_input('Enter a value:')\n",
    "b=raw_input('Enter b value:')\n",
    "c=raw_input('Enter c value:')\n",
    "A=int(a)\n",
    "B=int(b)\n",
    "C=int(c)\n",
    "if A>B and A>C:\n",
    "    print \"a is big\"\n",
    "elif B>C and B>A:\n",
    "    print \"b is big\"\n",
    "else:\n",
    "    print \"c is big\""
   ]
  },
  {
   "cell_type": "code",
   "execution_count": 5,
   "metadata": {},
   "outputs": [
    {
     "name": "stdout",
     "output_type": "stream",
     "text": [
      "Enter a value:2\n",
      "a is postive\n",
      "a is even\n"
     ]
    }
   ],
   "source": [
    "#to check if number is postive or neg or zero. and then check if its even or odd\n",
    "a=raw_input('Enter a value:')\n",
    "b=int(a)\n",
    "if b>0 and b!=0:\n",
    "    print \"a is postive\"\n",
    "else:\n",
    "    print \"a is negative\"\n",
    "\n",
    "if b%2 == 0:\n",
    "    print \"a is even\"\n",
    "else:\n",
    "    print \"a is odd\""
   ]
  },
  {
   "cell_type": "code",
   "execution_count": null,
   "metadata": {},
   "outputs": [],
   "source": []
  }
 ],
 "metadata": {
  "kernelspec": {
   "display_name": "Python 2",
   "language": "python",
   "name": "python2"
  },
  "language_info": {
   "codemirror_mode": {
    "name": "ipython",
    "version": 2
   },
   "file_extension": ".py",
   "mimetype": "text/x-python",
   "name": "python",
   "nbconvert_exporter": "python",
   "pygments_lexer": "ipython2",
   "version": "2.7.14"
  }
 },
 "nbformat": 4,
 "nbformat_minor": 2
}
